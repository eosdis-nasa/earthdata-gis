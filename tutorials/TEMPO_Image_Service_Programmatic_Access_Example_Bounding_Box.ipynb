{
 "cells": [
  {
   "cell_type": "markdown",
   "metadata": {},
   "source": [
    "# Accessing, Analyzing, & Visualizing TEMPO data through ArcGIS Image Services Programmatically (Geometry Envelope)"
   ]
  },
  {
   "cell_type": "markdown",
   "metadata": {},
   "source": [
    "## Overview\n",
    "\n",
    "This notebook demonstrates how to access and analyze data from the TEMPO NO₂ Hourly Tropospheric Vertical Column product, which has been processed into free, publicly available ArcGIS Image Services. These services are pre-filtered and analysis-ready, enabling users to extract and visualize NO₂ values over time without the need for specialized GIS software.\n",
    "\n",
    "This notebook walks through the following steps:\n",
    "\n",
    "- Select and define a TEMPO image service to query  \n",
    "- Choose a time range and geographic area of interest  \n",
    "- Retrieve and visualize NO₂ values within a defined polygon (bounding box)  \n",
    "- Plot average NO₂ levels over time for the selected region  \n",
    "- Explore the same imagery interactively using an ipyleaflet-based time slider map  \n",
    "\n",
    "## Why ArcGIS Image Services?\n",
    "\n",
    "Each TEMPO Image Service is hosted at a REST endpoint that offers multiple built-in capabilities via the [ArcGIS image service REST API](https://developers.arcgis.com/rest/services-reference/enterprise/image-service/). These endpoints allow users to:\n",
    "\n",
    "- Programmatically query data values (e.g., with `getSamples`)  \n",
    "- Retrieve rendered imagery tiles  \n",
    "- Filter by dimensions like time and variables  \n",
    "- Embed and visualize the data in custom web or Python-based applications  \n",
    "\n",
    "These services make it easier for non-GIS users to work with complex satellite data products using standard tools like Python.\n",
    "\n",
    "## Prerequisites\n",
    "\n",
    "No Esri software or GIS tools are required. All steps in this notebook use **open-source Python libraries** to access and analyze the data.\n",
    "\n",
    "### Required Skills:\n",
    "- Basic Python (functions, loops, plotting)\n",
    "- Familiarity with air quality or remote sensing concepts (e.g., NO₂ columns, temporal analysis)\n",
    "\n",
    "### Required Python Libraries:\n",
    "- [requests](https://github.com/psf/requests) - for sending HTTP requests to service API\n",
    "- [matplotlib](http://matplotlib.org/) - for creating plots and visualizations\n",
    "- [json](https://docs.python.org/3/library/json.html) - convert dictionaries into JSON strings\n",
    "- [datetime](https://docs.python.org/3/library/datetime.html) - Handles date and time objects\n",
    "- [ipyleaflet](https://github.com/jupyter-widgets/ipyleaflet/blob/master/python/ipyleaflet/README.md) - for visualization in interactive mapper\n",
    "- [ipywidgets](https://pypi.org/project/ipywidgets/) – for map controls and user interaction  \n",
    "\n",
    "### Data & Scope\n",
    "Each TEMPO ArcGIS image service has a portal page with detailed descriptions on the service, the filtering applied, geographic and temporal coverage, as well as access to the online map viewer to view the image service. It is strongly recommended to read over the service description to ensure understanding of the data.\n",
    "\n",
    "The TEMPO image services are available in the Esri Living Atlas of the World:\n",
    "* [NO2](https://www.arcgis.com/home/item.html?id=6a1bdd0c076d499da69e867732ed2ab7)\n",
    "* [HCHO](https://www.arcgis.com/home/item.html?id=27947c9d5d5f417b8b46a9d75a084549)\n",
    "* [Ozone Total](https://www.arcgis.com/home/item.html?id=b6a2f0ebfbbc424aa58ef13af0a3bd6c)\n",
    "\n",
    "The example in the notebook uses:\n",
    "\n",
    "**Product**: TEMPO_NO2_L3_V03 (Hourly NO₂ Tropospheric Column)  \n",
    "**Resolution**: ~2.1 × 4.4 km, ourly during daylight  \n",
    "**Coverage**: North America   \n",
    "**Example Region**: Hampton Roads Virginia  \n",
    "**Time Range**: May 20–25, 2024  \n",
    "  \n",
    "*Methods apply to other TEMPO products (formaldehyde, ozone, etc.) and regions within North America.*\n",
    "\n",
    "### Notebook Author / Affiliation\n",
    "- Author: Atmospheric Science Data Center\n",
    "- Questions? Please post questions on the [NASA Earthdata Forum](https://forum.earthdata.nasa.gov/)"
   ]
  },
  {
   "cell_type": "markdown",
   "metadata": {},
   "source": [
    "# Create Time Graph - ArcGIS Image Service: Get Samples"
   ]
  },
  {
   "cell_type": "markdown",
   "metadata": {},
   "source": [
    "## 1. Setup\n",
    "Install Python packages, as necessary (NOTE: Google Colab appears to have all the packages pre-installed)\n",
    "Install Python packages if not available; you may want to restart the kernel after installation to ensure changes are implemented"
   ]
  },
  {
   "cell_type": "code",
   "execution_count": 1,
   "metadata": {},
   "outputs": [],
   "source": [
    "#!pip install requests pandas matplotlib ipyleaflet ipywidgets"
   ]
  },
  {
   "cell_type": "code",
   "execution_count": null,
   "metadata": {},
   "outputs": [],
   "source": [
    "import requests\n",
    "import pandas as pd\n",
    "import matplotlib.pyplot as plt\n",
    "import json\n",
    "from datetime import datetime"
   ]
  },
  {
   "cell_type": "markdown",
   "metadata": {},
   "source": [
    "## 2. Convert Human-Readable Dates to Milliseconds Since Epoch\n",
    "\n",
    "Next we will run the `convert_to_milliseconds()` function. This function takes a date-time string in the format `'YYYY-MM-DD HH:MM:SS'` and converts it to Unix time in **milliseconds**. This format is required by the NASA ArcGIS ImageServer API, which expects time inputs in millisecond timestamps for querying NO₂ data over a given time range.\n"
   ]
  },
  {
   "cell_type": "code",
   "execution_count": null,
   "metadata": {},
   "outputs": [],
   "source": [
    "def convert_to_milliseconds(date_time_str):\n",
    "    \"\"\"Converts a date-time string in 'YYYY-MM-DD HH:MM:SS' format to milliseconds since epoch.\"\"\"\n",
    "    dt = datetime.strptime(date_time_str, '%Y-%m-%d %H:%M:%S')\n",
    "    milliseconds_since_epoch = int(dt.timestamp() * 1000)\n",
    "    return milliseconds_since_epoch"
   ]
  },
  {
   "cell_type": "markdown",
   "metadata": {},
   "source": [
    "## 3. Define Input Parameters\n",
    "This cell sets up the key user inputs for the analysis:\n",
    "- The URL of the NASA ImageServer layer that provides hourly NO₂ tropospheric column data.\n",
    "- The name of the variable we want to query (`NO2_Troposphere`).\n",
    "- The time range of interest.\n",
    "\n",
    "The start and end times are then converted to milliseconds with our previously defined function."
   ]
  },
  {
   "cell_type": "code",
   "execution_count": null,
   "metadata": {},
   "outputs": [],
   "source": [
    "# User inputs\n",
    "image_service_url = \"https://gis.earthdata.nasa.gov/image/rest/services/C2930763263-LARC_CLOUD/TEMPO_NO2_L3_V03_HOURLY_TROPOSPHERIC_VERTICAL_COLUMN/ImageServer\"\n",
    "variable_name = \"NO2_Troposphere\"  # Example: \"T2M\" - TODO retrieve list of variables from MultidimensionalInfo endpoint\n",
    "start_date_time_str = \"2024-05-20 12:00:00\" #in 'YYYY-MM-DD HH:MM:SS' format\n",
    "end_date_time_str = \"2024-05-25 12:00:00\" #in 'YYYY-MM-DD HH:MM:SS' format\n",
    "\n",
    "# Convert user input dates to milliseconds since epoch\n",
    "start_time = convert_to_milliseconds(start_date_time_str)\n",
    "end_time = convert_to_milliseconds(end_date_time_str)"
   ]
  },
  {
   "cell_type": "markdown",
   "metadata": {},
   "source": [
    "Next, we will check to ensure our function conversion was successful"
   ]
  },
  {
   "cell_type": "code",
   "execution_count": null,
   "metadata": {},
   "outputs": [],
   "source": [
    "print(start_time)\n",
    "print(end_time)"
   ]
  },
  {
   "cell_type": "markdown",
   "metadata": {},
   "source": [
    "### 3.1 Define Spatial and API Request Parameters\n",
    "Next, we will construct our request to the NASA ImageServer API.\n",
    "\n",
    "- A geographic bounding box (`geometry_envelope`) is defined using latitude and longitude limits, with WGS84 coordinates (`wkid: 4326`).\n",
    "- API parameters are assembled into the `params` dictionary, including the geometry, time range, variable name, interpolation method, and response format.\n",
    "- The bounding box will return all sample points within the specified area for the given time range.\n",
    "\n",
    "The `geometry` is serialized using `json.dumps()` because the API requires JSON-formatted strings for complex geometry inputs."
   ]
  },
  {
   "cell_type": "code",
   "execution_count": null,
   "metadata": {},
   "outputs": [],
   "source": [
    "base_url = image_service_url+\"/getSamples/\"\n",
    "\n",
    "geometry_envelope = {\n",
    "    \"xmin\": -76.6,\n",
    "    \"ymin\": 37.1,\n",
    "    \"xmax\": -76.3,\n",
    "    \"ymax\": 37.3,\n",
    "    \"spatialReference\": { \"wkid\": 4326 }\n",
    "}\n",
    "\n",
    "params = {\n",
    "    \"geometry\": json.dumps(geometry_envelope),\n",
    "    \"geometryType\": \"esriGeometryEnvelope\",\n",
    "    \"sampleDistance\": \"\",\n",
    "    \"sampleCount\": \"\",\n",
    "    \"mosaicRule\": f'{{\"multidimensionalDefinition\":[{{\"variableName\":\"{variable_name}\"}}]}}',\n",
    "    \"pixelSize\": \"\",\n",
    "    \"returnFirstValueOnly\": \"false\",\n",
    "    \"interpolation\": \"RSP_NearestNeighbor\",\n",
    "    \"outFields\": \"\",\n",
    "    \"sliceId\": \"\",\n",
    "    \"time\": f\"{start_time},{end_time}\",\n",
    "    \"f\": \"pjson\"\n",
    "}"
   ]
  },
  {
   "cell_type": "markdown",
   "metadata": {},
   "source": [
    "## 4. Retreive data values for our area of interest for selected time period\n",
    "https://gis.earthdata.nasa.gov/image/rest/services/C2930763263-LARC_CLOUD/TEMPO_NO2_L3_V03_HOURLY_TROPOSPHERIC_VERTICAL_COLUMN/ImageServer\n"
   ]
  },
  {
   "cell_type": "markdown",
   "metadata": {},
   "source": [
    "### 4.1 Send API Request and Preview Sample Data\n",
    "\n",
    "This cell sends a GET request to the NASA ArcGIS ImageServer using the `getSamples` endpoint. The full response is stored in the `data` variable. To keep the output manageable, only the first 3 sample entries (if any) are printed. This helps verify the API call succeeded and returned usable data."
   ]
  },
  {
   "cell_type": "code",
   "execution_count": null,
   "metadata": {},
   "outputs": [],
   "source": [
    "response = requests.get(base_url, params=params)\n",
    "data = response.json()\n",
    "\n",
    "# Use print(data) to view all data (it will be long)\n",
    "# print(data)\n",
    "\n",
    "# Use the following to print the first 3 samples of data\n",
    "samples = data.get(\"samples\", [])\n",
    "if samples:\n",
    "    for i, sample in enumerate(samples[:3]):\n",
    "        print(f\"Sample {i+1}: {sample}\")\n",
    "else:\n",
    "    print(\"No samples returned.\")"
   ]
  },
  {
   "cell_type": "markdown",
   "metadata": {},
   "source": [
    "### 4.2 Extract data into a dataframe\n",
    "This cell extracts the relevant information from the API response and organizes it into a `pandas` DataFrame.\n",
    "\n",
    "- It loops through each sample and attempts to extract the NO₂ value from the `\"attributes\"` field.\n",
    "- Only **positive values** are kept, since negative values usually represent invalid or low-quality data (e.g., due to clouds or sensor issues).\n",
    "- Invalid or missing values are safely skipped using a `try`–`except` block.\n",
    "- Timestamps (`StdTime`) are converted from milliseconds to human-readable datetime format using `pandas.to_datetime()`."
   ]
  },
  {
   "cell_type": "code",
   "execution_count": null,
   "metadata": {},
   "outputs": [],
   "source": [
    "samples = []\n",
    "for sample in data.get(\"samples\", []):\n",
    "    attributes = sample.get(\"attributes\", {})\n",
    "    no2_str = attributes.get(variable_name)\n",
    "\n",
    "    try:\n",
    "        no2_value = float(no2_str)\n",
    "        if no2_value > 0:  \n",
    "            samples.append({\n",
    "                \"StdTime\": attributes[\"StdTime\"],\n",
    "                variable_name: no2_value\n",
    "            })\n",
    "    except (TypeError, ValueError):\n",
    "        # Skip if value can't be converted to float\n",
    "        continue\n",
    "\n",
    "# Convert the list to a DataFrame\n",
    "df = pd.DataFrame(samples)\n",
    "\n",
    "\n",
    "# Convert StdTime from Unix timestamp (milliseconds) to datetime\n",
    "df['StdTime'] = pd.to_datetime(df['StdTime'], unit='ms')"
   ]
  },
  {
   "cell_type": "code",
   "execution_count": null,
   "metadata": {},
   "outputs": [],
   "source": [
    "df"
   ]
  },
  {
   "cell_type": "markdown",
   "metadata": {},
   "source": [
    "## 5. Plot Average NO₂ Values Over Time\n",
    "\n",
    "This cell calculates and visualizes the average NO₂ concentration across all valid sample points in the envelope for each timestamp.\n",
    "\n",
    "- The data is grouped by time (`StdTime`), and the mean value is computed for each group.\n",
    "- A line plot is used to display how average NO₂ levels change over time.\n",
    "- This plot helps identify overall trends and patterns, such as increases or decreases in NO₂ over the selected period."
   ]
  },
  {
   "cell_type": "code",
   "execution_count": null,
   "metadata": {},
   "outputs": [],
   "source": [
    "# Finding the average values of the polygon area and plotting over time\n",
    "df_avg = df.groupby('StdTime')[variable_name].mean().reset_index()\n",
    "\n",
    "plt.figure(figsize=(10, 6))\n",
    "plt.plot(df_avg['StdTime'], df_avg[variable_name], marker='o', linestyle='-')\n",
    "plt.title(f'Average {variable_name} Over Time')\n",
    "plt.xlabel('Time')\n",
    "plt.ylabel(f'Average {variable_name}')\n",
    "plt.grid(True)\n",
    "plt.xticks(rotation=45)\n",
    "plt.tight_layout()\n",
    "plt.show()"
   ]
  },
  {
   "cell_type": "markdown",
   "metadata": {},
   "source": [
    "# Create Map - ArcGIS Image Servce: Export Image"
   ]
  },
  {
   "cell_type": "markdown",
   "metadata": {},
   "source": [
    "### 1. Import Required Libraries"
   ]
  },
  {
   "cell_type": "code",
   "execution_count": null,
   "metadata": {},
   "outputs": [],
   "source": [
    "from ipyleaflet import Map, ImageService, basemaps,  WidgetControl\n",
    "from ipywidgets import SelectionSlider, Layout, Label, VBox\n",
    "from datetime import datetime, timezone\n",
    "from ipywidgets import Output, HTML"
   ]
  },
  {
   "cell_type": "markdown",
   "metadata": {},
   "source": [
    "### 2. Define Utility Functions for Time and Map Interaction\n",
    "\n",
    "This cell defines two funcitons we will use in our map:\n",
    "\n",
    "1. `convert_from_milliseconds()`  \n",
    "   Converts a Unix timestamp in milliseconds into a readable ISO 8601 date-time string (e.g., `'2024-05-20T12:00:00Z'`). This format is useful for labeling or interpreting time values associated with imagery layers.\n",
    "\n",
    "2. `on_click()`  \n",
    "   Adds interactivity to the map. When a user:\n",
    "   - **Clicks**, the geographic coordinates are printed to the console.\n",
    "   - **Moves the mouse**, the live coordinates are displayed on the map in a floating label."
   ]
  },
  {
   "cell_type": "code",
   "execution_count": null,
   "metadata": {},
   "outputs": [],
   "source": [
    "def convert_from_milliseconds(milliseconds_since_epoch):\n",
    "    \"\"\"Converts milliseconds since epoch to a date-time string in 'YYYY-MM-DDTHH:MM:SSZ' format.\"\"\"\n",
    "    dt = datetime.fromtimestamp((milliseconds_since_epoch)/ 1000, tz=timezone.utc)\n",
    "    date_time_str = dt.strftime('%Y-%m-%dT%H:%M:%SZ')\n",
    "    return date_time_str\n",
    "\n",
    "\n",
    "def on_click(**kwargs):\n",
    "    if kwargs.get('type') == 'click':\n",
    "        print(str(kwargs.get('coordinates')))\n",
    "    \n",
    "    if kwargs.get('type') == 'mousemove':\n",
    "        latlng = kwargs.get('coordinates')\n",
    "        lat, lng = latlng\n",
    "        coordinates_label.value = f\"Coordinates: ({lat:.5f}, {lng:.5f})\""
   ]
  },
  {
   "cell_type": "markdown",
   "metadata": {},
   "source": [
    "### 3. Define Observation Times and Image Service URL\n",
    "\n",
    "This cell provides a list of available observation times from the ImageServer, stored as Unix timestamps in milliseconds. These time values are used to populate the time slider on the interactive map, allowing users to view NO₂ imagery for specific hourly intervals. The ImageServer URL is also defined here, referencing the TEMPO hourly NO₂ product that will be displayed on the map.\n"
   ]
  },
  {
   "cell_type": "code",
   "execution_count": null,
   "metadata": {},
   "outputs": [],
   "source": [
    "# The actual start times of observations from the datafiles\n",
    "time_values = [\n",
    "    1715683263000,\n",
    "    1715685668000,\n",
    "    1715688073000,\n",
    "    1715690478000,\n",
    "    1715692883000,\n",
    "    1715695288000,\n",
    "    1715698888000,\n",
    "    1715702488000,\n",
    "    1715706088000,\n",
    "    1715709688000,\n",
    "    1715713288000,\n",
    "    1715716888000,\n",
    "    1715720488000,\n",
    "    1715724088000,\n",
    "    1715726493000,\n",
    "    1715728898000,\n",
    "    1715731303000,\n",
    "    1715733708000,\n",
    "]\n",
    "\n",
    "image_service_url = \"https://gis.earthdata.nasa.gov/image/rest/services/C2930763263-LARC_CLOUD/TEMPO_NO2_L3_V03_HOURLY_TROPOSPHERIC_VERTICAL_COLUMN/ImageServer\"\n"
   ]
  },
  {
   "cell_type": "markdown",
   "metadata": {},
   "source": [
    "### 4. Create Interactive Map with ImageService and Time Slider\n",
    "\n",
    "This final cell creates an interactive `ipyleaflet` map that displays hourly NO₂ imagery from the NASA ImageServer. The time slider allows users to select a specific observation timestamp, which dynamically updates the image layer. A label displays live mouse coordinates on hover, and a click listener prints coordinates to the console."
   ]
  },
  {
   "cell_type": "code",
   "execution_count": null,
   "metadata": {},
   "outputs": [],
   "source": [
    "# Initialize the map\n",
    "m = Map(center=(47,-122), zoom=3, basemap=basemaps.Esri.WorldTopoMap)\n",
    "\n",
    "tempo_image_service = ImageService(url=image_service_url, \n",
    "                                   rendering_rule={\"rasterFunction\":\"torch_RGB\"}, \n",
    "                                   format=\"jpgpng\",\n",
    "                                   opacity=0.5)\n",
    "\n",
    "\n",
    "#creating a list with the UTC times with time_values for easy visualization of time\n",
    "time_strings = [convert_from_milliseconds(t) for t in time_values]  \n",
    "\n",
    "#creating a list of tuples to input in SelectionSlider's options for easy visualization of time\n",
    "time_options = [(time_strings[i], time_values[i]) for i in range(len(time_values))]\n",
    "\n",
    "#creating the slider\n",
    "slider = SelectionSlider(description='Time:', options=time_options, layout=Layout(width='700px', height='20px'))\n",
    "\n",
    "#creating a Label for the VBox\n",
    "time_label = Label(value='Time Slider')\n",
    "\n",
    "#A handler that will update the map everytime the user moves the slider\n",
    "def update_image(change):\n",
    "\n",
    "    tempo_image_service.time = [change.new,1715733708000]\n",
    "    \n",
    "#Listens to the slider's user input and helps update the map\n",
    "slider.observe(update_image, 'value')\n",
    "\n",
    "#creates a VBox to contain the slider and be placed in the map\n",
    "vbox = VBox([slider, time_label])\n",
    "\n",
    "#slider placed in bottomleft of the map\n",
    "control = WidgetControl(widget=vbox, position='bottomleft')\n",
    "\n",
    "# Output widget to listen to the user's mouse hovering over the map\n",
    "output = Output()\n",
    "controloutput = WidgetControl(widget=output, position='topright')\n",
    "\n",
    "# Label widget to display coordinates\n",
    "coordinates_label = HTML(value=\"Coordinates: \")\n",
    "coordinates_control = WidgetControl(widget=coordinates_label, position='bottomright')\n",
    "\n",
    "#add all widgets to the map\n",
    "m.add(tempo_image_service)\n",
    "m.add(control)\n",
    "m.add(controloutput)\n",
    "m.add(coordinates_control)\n",
    "\n",
    "# when user hovers over the map coordinates_label gets updated and prints the coordinates where clicked\n",
    "m.on_interaction(on_click)\n",
    "m"
   ]
  }
 ],
 "metadata": {
  "kernelspec": {
   "display_name": "Python 3 (ipykernel)",
   "language": "python",
   "name": "python3"
  },
  "language_info": {
   "codemirror_mode": {
    "name": "ipython",
    "version": 3
   },
   "file_extension": ".py",
   "mimetype": "text/x-python",
   "name": "python",
   "nbconvert_exporter": "python",
   "pygments_lexer": "ipython3",
   "version": "3.11.13"
  }
 },
 "nbformat": 4,
 "nbformat_minor": 4
}
